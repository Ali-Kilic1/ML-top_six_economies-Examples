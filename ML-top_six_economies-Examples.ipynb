{
 "cells": [
  {
   "cell_type": "code",
   "execution_count": 1,
   "id": "21710104",
   "metadata": {
    "scrolled": true
   },
   "outputs": [],
   "source": [
    "#Gerekli Kütüphanleri import ettim\n",
    "import pandas as pd\n",
    "import numpy as np\n",
    "import matplotlib.pyplot as plt\n",
    "from sklearn.model_selection import train_test_split,GridSearchCV\n",
    "from sklearn.ensemble import RandomForestRegressor\n",
    "from sklearn.metrics import r2_score"
   ]
  },
  {
   "cell_type": "code",
   "execution_count": 2,
   "id": "fd6f5c61",
   "metadata": {},
   "outputs": [
    {
     "data": {
      "text/html": [
       "<div>\n",
       "<style scoped>\n",
       "    .dataframe tbody tr th:only-of-type {\n",
       "        vertical-align: middle;\n",
       "    }\n",
       "\n",
       "    .dataframe tbody tr th {\n",
       "        vertical-align: top;\n",
       "    }\n",
       "\n",
       "    .dataframe thead th {\n",
       "        text-align: right;\n",
       "    }\n",
       "</style>\n",
       "<table border=\"1\" class=\"dataframe\">\n",
       "  <thead>\n",
       "    <tr style=\"text-align: right;\">\n",
       "      <th></th>\n",
       "      <th>Year</th>\n",
       "      <th>GDP (current US$)</th>\n",
       "      <th>GDP, PPP (current international $)</th>\n",
       "      <th>GDP per capita (current US$)</th>\n",
       "      <th>GDP growth (annual %)</th>\n",
       "      <th>Imports of goods and services (% of GDP)</th>\n",
       "      <th>Exports of goods and services (% of GDP)</th>\n",
       "      <th>Central government debt, total (% of GDP)</th>\n",
       "      <th>Total reserves (includes gold, current US$)</th>\n",
       "      <th>Unemployment, total (% of total labor force) (modeled ILO estimate)</th>\n",
       "      <th>Inflation, consumer prices (annual %)</th>\n",
       "      <th>Personal remittances, received (% of GDP)</th>\n",
       "      <th>Population, total</th>\n",
       "      <th>Population growth (annual %)</th>\n",
       "      <th>Life expectancy at birth, total (years)</th>\n",
       "      <th>Poverty headcount ratio at $1.90 a day (2011 PPP) (% of population)</th>\n",
       "    </tr>\n",
       "  </thead>\n",
       "  <tbody>\n",
       "    <tr>\n",
       "      <th>0</th>\n",
       "      <td>1991</td>\n",
       "      <td>6.158129e+12</td>\n",
       "      <td>6.158129e+12</td>\n",
       "      <td>24342.258905</td>\n",
       "      <td>-0.108265</td>\n",
       "      <td>10.125543</td>\n",
       "      <td>9.660905</td>\n",
       "      <td>44.061597</td>\n",
       "      <td>1.592729e+11</td>\n",
       "      <td>6.80</td>\n",
       "      <td>4.234964</td>\n",
       "      <td>0.021110</td>\n",
       "      <td>252981000.0</td>\n",
       "      <td>1.336261</td>\n",
       "      <td>75.365854</td>\n",
       "      <td>0.5</td>\n",
       "    </tr>\n",
       "    <tr>\n",
       "      <th>1</th>\n",
       "      <td>1992</td>\n",
       "      <td>6.520327e+12</td>\n",
       "      <td>6.520327e+12</td>\n",
       "      <td>25418.990776</td>\n",
       "      <td>3.522441</td>\n",
       "      <td>10.241680</td>\n",
       "      <td>9.708915</td>\n",
       "      <td>46.050144</td>\n",
       "      <td>1.475259e+11</td>\n",
       "      <td>7.50</td>\n",
       "      <td>3.028820</td>\n",
       "      <td>0.027545</td>\n",
       "      <td>256514000.0</td>\n",
       "      <td>1.386886</td>\n",
       "      <td>75.617073</td>\n",
       "      <td>0.5</td>\n",
       "    </tr>\n",
       "    <tr>\n",
       "      <th>2</th>\n",
       "      <td>1993</td>\n",
       "      <td>6.858559e+12</td>\n",
       "      <td>6.858559e+12</td>\n",
       "      <td>26387.293734</td>\n",
       "      <td>2.751781</td>\n",
       "      <td>10.497438</td>\n",
       "      <td>9.547180</td>\n",
       "      <td>48.246140</td>\n",
       "      <td>1.646202e+11</td>\n",
       "      <td>6.90</td>\n",
       "      <td>2.951657</td>\n",
       "      <td>0.026536</td>\n",
       "      <td>259919000.0</td>\n",
       "      <td>1.318680</td>\n",
       "      <td>75.419512</td>\n",
       "      <td>0.5</td>\n",
       "    </tr>\n",
       "    <tr>\n",
       "      <th>3</th>\n",
       "      <td>1994</td>\n",
       "      <td>7.287236e+12</td>\n",
       "      <td>7.287236e+12</td>\n",
       "      <td>27694.853416</td>\n",
       "      <td>4.028793</td>\n",
       "      <td>11.162312</td>\n",
       "      <td>9.893147</td>\n",
       "      <td>47.353482</td>\n",
       "      <td>1.635906e+11</td>\n",
       "      <td>6.12</td>\n",
       "      <td>2.607442</td>\n",
       "      <td>0.026663</td>\n",
       "      <td>263126000.0</td>\n",
       "      <td>1.226296</td>\n",
       "      <td>75.619512</td>\n",
       "      <td>0.5</td>\n",
       "    </tr>\n",
       "    <tr>\n",
       "      <th>4</th>\n",
       "      <td>1995</td>\n",
       "      <td>7.639749e+12</td>\n",
       "      <td>7.639749e+12</td>\n",
       "      <td>28690.875701</td>\n",
       "      <td>2.684217</td>\n",
       "      <td>11.814158</td>\n",
       "      <td>10.639224</td>\n",
       "      <td>47.209535</td>\n",
       "      <td>1.759954e+11</td>\n",
       "      <td>5.65</td>\n",
       "      <td>2.805420</td>\n",
       "      <td>0.028522</td>\n",
       "      <td>266278000.0</td>\n",
       "      <td>1.190787</td>\n",
       "      <td>75.621951</td>\n",
       "      <td>0.5</td>\n",
       "    </tr>\n",
       "  </tbody>\n",
       "</table>\n",
       "</div>"
      ],
      "text/plain": [
       "   Year  GDP (current US$)  GDP, PPP (current international $)  \\\n",
       "0  1991       6.158129e+12                        6.158129e+12   \n",
       "1  1992       6.520327e+12                        6.520327e+12   \n",
       "2  1993       6.858559e+12                        6.858559e+12   \n",
       "3  1994       7.287236e+12                        7.287236e+12   \n",
       "4  1995       7.639749e+12                        7.639749e+12   \n",
       "\n",
       "   GDP per capita (current US$)  GDP growth (annual %)  \\\n",
       "0                  24342.258905              -0.108265   \n",
       "1                  25418.990776               3.522441   \n",
       "2                  26387.293734               2.751781   \n",
       "3                  27694.853416               4.028793   \n",
       "4                  28690.875701               2.684217   \n",
       "\n",
       "   Imports of goods and services (% of GDP)  \\\n",
       "0                                 10.125543   \n",
       "1                                 10.241680   \n",
       "2                                 10.497438   \n",
       "3                                 11.162312   \n",
       "4                                 11.814158   \n",
       "\n",
       "   Exports of goods and services (% of GDP)  \\\n",
       "0                                  9.660905   \n",
       "1                                  9.708915   \n",
       "2                                  9.547180   \n",
       "3                                  9.893147   \n",
       "4                                 10.639224   \n",
       "\n",
       "   Central government debt, total (% of GDP)  \\\n",
       "0                                  44.061597   \n",
       "1                                  46.050144   \n",
       "2                                  48.246140   \n",
       "3                                  47.353482   \n",
       "4                                  47.209535   \n",
       "\n",
       "   Total reserves (includes gold, current US$)  \\\n",
       "0                                 1.592729e+11   \n",
       "1                                 1.475259e+11   \n",
       "2                                 1.646202e+11   \n",
       "3                                 1.635906e+11   \n",
       "4                                 1.759954e+11   \n",
       "\n",
       "   Unemployment, total (% of total labor force) (modeled ILO estimate)  \\\n",
       "0                                               6.80                     \n",
       "1                                               7.50                     \n",
       "2                                               6.90                     \n",
       "3                                               6.12                     \n",
       "4                                               5.65                     \n",
       "\n",
       "   Inflation, consumer prices (annual %)  \\\n",
       "0                               4.234964   \n",
       "1                               3.028820   \n",
       "2                               2.951657   \n",
       "3                               2.607442   \n",
       "4                               2.805420   \n",
       "\n",
       "   Personal remittances, received (% of GDP)  Population, total  \\\n",
       "0                                   0.021110        252981000.0   \n",
       "1                                   0.027545        256514000.0   \n",
       "2                                   0.026536        259919000.0   \n",
       "3                                   0.026663        263126000.0   \n",
       "4                                   0.028522        266278000.0   \n",
       "\n",
       "   Population growth (annual %)  Life expectancy at birth, total (years)  \\\n",
       "0                      1.336261                                75.365854   \n",
       "1                      1.386886                                75.617073   \n",
       "2                      1.318680                                75.419512   \n",
       "3                      1.226296                                75.619512   \n",
       "4                      1.190787                                75.621951   \n",
       "\n",
       "   Poverty headcount ratio at $1.90 a day (2011 PPP) (% of population)  \n",
       "0                                                0.5                    \n",
       "1                                                0.5                    \n",
       "2                                                0.5                    \n",
       "3                                                0.5                    \n",
       "4                                                0.5                    "
      ]
     },
     "execution_count": 2,
     "metadata": {},
     "output_type": "execute_result"
    }
   ],
   "source": [
    "#Veri'yi Hazırladım.\n",
    "data=pd.read_csv(\"top_six_economies.csv\")\n",
    "cap=[\"Unnamed: 0\",\"Country Name\"]\n",
    "data.drop(cap,axis=1,inplace=True)\n",
    "data.head()"
   ]
  },
  {
   "cell_type": "code",
   "execution_count": 3,
   "id": "869f7e04",
   "metadata": {},
   "outputs": [
    {
     "data": {
      "text/plain": [
       "<AxesSubplot:>"
      ]
     },
     "execution_count": 3,
     "metadata": {},
     "output_type": "execute_result"
    },
    {
     "data": {
      "image/png": "[encoded data removed]",
      "text/plain": [
       "<Figure size 432x288 with 1 Axes>"
      ]
     },
     "metadata": {
      "needs_background": "light"
     },
     "output_type": "display_data"
    }
   ],
   "source": [
    "#Year sütununda bulunan aykırı verileri inceledim\n",
    "data[\"Year\"].plot(kind=\"box\")"
   ]
  },
  {
   "cell_type": "code",
   "execution_count": 4,
   "id": "90c681f2",
   "metadata": {},
   "outputs": [],
   "source": [
    "#Data'da bulunan boş değerleri, o sütunda bulunan değerlerin ortalamasını yazdırdım\n",
    "data[\"Central government debt, total (% of GDP)\"].fillna(data[\"Central government debt, total (% of GDP)\"].mean(),inplace=True)\n",
    "data[\"Poverty headcount ratio at $1.90 a day (2011 PPP) (% of population)\"].fillna(data[\"Poverty headcount ratio at $1.90 a day (2011 PPP) (% of population)\"].mean(),inplace=True)"
   ]
  },
  {
   "cell_type": "code",
   "execution_count": 5,
   "id": "9de72026",
   "metadata": {},
   "outputs": [
    {
     "data": {
      "text/plain": [
       "Year                                                                   0\n",
       "GDP (current US$)                                                      0\n",
       "GDP, PPP (current international $)                                     0\n",
       "GDP per capita (current US$)                                           0\n",
       "GDP growth (annual %)                                                  0\n",
       "Imports of goods and services (% of GDP)                               0\n",
       "Exports of goods and services (% of GDP)                               0\n",
       "Central government debt, total (% of GDP)                              0\n",
       "Total reserves (includes gold, current US$)                            0\n",
       "Unemployment, total (% of total labor force) (modeled ILO estimate)    0\n",
       "Inflation, consumer prices (annual %)                                  0\n",
       "Personal remittances, received (% of GDP)                              0\n",
       "Population, total                                                      0\n",
       "Population growth (annual %)                                           0\n",
       "Life expectancy at birth, total (years)                                0\n",
       "Poverty headcount ratio at $1.90 a day (2011 PPP) (% of population)    0\n",
       "dtype: int64"
      ]
     },
     "execution_count": 5,
     "metadata": {},
     "output_type": "execute_result"
    }
   ],
   "source": [
    "#Data'da boş değer var mı yok mu onu kontrol ettim.\n",
    "data.isnull().sum()"
   ]
  },
  {
   "cell_type": "code",
   "execution_count": 6,
   "id": "7e721c44",
   "metadata": {},
   "outputs": [
    {
     "data": {
      "text/plain": [
       "(180, 16)"
      ]
     },
     "execution_count": 6,
     "metadata": {},
     "output_type": "execute_result"
    }
   ],
   "source": [
    "#Datamızın boyutuna baktım\n",
    "data.shape"
   ]
  },
  {
   "cell_type": "code",
   "execution_count": 7,
   "id": "6fc85fbb",
   "metadata": {},
   "outputs": [],
   "source": [
    "#Bağımlı ve Bağımsız Değişkenleri oluşturdum\n",
    "x=data.drop(\"Year\",axis=1)\n",
    "y=data[[\"Year\"]]"
   ]
  },
  {
   "cell_type": "code",
   "execution_count": 8,
   "id": "dbe126dc",
   "metadata": {},
   "outputs": [],
   "source": [
    "#Test ve Eğitim kümelerine ayırdım\n",
    "x_train,x_test,y_train,y_test=train_test_split(x,y,test_size=0.3,random_state=42)"
   ]
  },
  {
   "cell_type": "code",
   "execution_count": 9,
   "id": "c0fe6fdc",
   "metadata": {},
   "outputs": [
    {
     "name": "stdout",
     "output_type": "stream",
     "text": [
      "{'n_estimators': 94}\n"
     ]
    }
   ],
   "source": [
    "#GridSearchCV yöntemi ile en uygun n_estimators değerini buldum.\n",
    "rf=RandomForestRegressor(random_state=42)\n",
    "rf_param={\"n_estimators\":np.arange(1,100,1)}\n",
    "gsv=GridSearchCV(rf,rf_param,cv=10,n_jobs=-1).fit(x_train,y_train.values.ravel())\n",
    "print(gsv.best_params_)"
   ]
  },
  {
   "cell_type": "code",
   "execution_count": 10,
   "id": "22c6015b",
   "metadata": {},
   "outputs": [
    {
     "name": "stdout",
     "output_type": "stream",
     "text": [
      "Accuracy: 0.9030585096518012\n"
     ]
    }
   ],
   "source": [
    "#Sonuç;\n",
    "rf=RandomForestRegressor(n_estimators=94,random_state=42).fit(x_train,y_train.values.ravel())\n",
    "pred=rf.predict(x_test)\n",
    "print(\"Accuracy:\",r2_score(y_test,pred))"
   ]
  }
 ],
 "metadata": {
  "kernelspec": {
   "display_name": "Python 3 (ipykernel)",
   "language": "python",
   "name": "python3"
  },
  "language_info": {
   "codemirror_mode": {
    "name": "ipython",
    "version": 3
   },
   "file_extension": ".py",
   "mimetype": "text/x-python",
   "name": "python",
   "nbconvert_exporter": "python",
   "pygments_lexer": "ipython3",
   "version": "3.9.12"
  }
 },
 "nbformat": 4,
 "nbformat_minor": 5
}
